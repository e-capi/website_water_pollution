{
 "cells": [
  {
   "cell_type": "code",
   "execution_count": null,
   "id": "efb4ce13",
   "metadata": {},
   "outputs": [],
   "source": [
    "# upper bar html\n",
    "\n",
    "st.markdown(\n",
    "    '<link rel=\"stylesheet\" href=\"https://maxcdn.bootstrapcdn.com/bootstrap/4.0.0/css/bootstrap.min.css\" integrity=\"sha384-Gn5384xqQ1aoWXA+058RXPxPg6fy4IWvTNh0E263XmFcJlSAwiGgFAW/dAiS6JXm\" crossorigin=\"anonymous\">',\n",
    "    unsafe_allow_html=True)\n",
    "\n",
    "\n",
    "st.markdown(\"\"\"\n",
    "<nav class=\"navbar fixed-top navbar-expand-lg navbar-dark\" style=\"background-color: #3498DB;\">\n",
    "  <a class=\"navbar-brand\" href=\"https://youtube.com/dataprofessor\" target=\"_blank\">Logo Here</a>\n",
    "  <button class=\"navbar-toggler\" type=\"button\" data-toggle=\"collapse\" data-target=\"#navbarNav\" aria-controls=\"navbarNav\" aria-expanded=\"false\" aria-label=\"Toggle navigation\">\n",
    "    <span class=\"navbar-toggler-icon\"></span>\n",
    "  </button>\n",
    "  <div class=\"collapse navbar-collapse\" id=\"navbarNav\">\n",
    "    <ul class=\"navbar-nav\">\n",
    "      <li class=\"nav-item active\">\n",
    "        <a class=\"nav-link disabled\" href=\"#\">Home <span class=\"sr-only\">(current)</span></a>\n",
    "      </li>\n",
    "      <li class=\"nav-item\">\n",
    "        <a class=\"nav-link\" href=\"https://youtube.com/dataprofessor\" target=\"_blank\">YouTube</a>\n",
    "      </li>\n",
    "      <li class=\"nav-item\">\n",
    "        <a class=\"nav-link\" href=\"https://twitter.com/thedataprof\" target=\"_blank\">Twitter</a>\n",
    "      </li>\n",
    "    </ul>\n",
    "  </div>\n",
    "</nav>\n",
    "\"\"\",\n",
    "            unsafe_allow_html=True)\n",
    "\n"
   ]
  },
  {
   "cell_type": "code",
   "execution_count": null,
   "id": "96b97d5f",
   "metadata": {},
   "outputs": [],
   "source": [
    "# charts side by side \n",
    "chart1 = alt.Chart(df).mark_line().encode(\n",
    "    x=alt.X('date',axis=alt.Axis(format='%Y-%m',labelAngle=-20)),\n",
    "    y=alt.Y('colname1',scale=alt.Scale(domain=[np.min(df.colname1), np.max(df.colname1)])), \n",
    ").properties(width=500, height=300)\n",
    "\n",
    "\n",
    "chart2 = alt.Chart(df).mark_line().encode(\n",
    "    x=alt.X('date',axis=alt.Axis(format='%Y-%m',labelAngle=-20)),\n",
    "    y=alt.Y('colname2',scale=alt.Scale(domain=[np.min(df.colname2), np.max(df.colname2)])), \n",
    ").properties(width=500, height=300)\n",
    "\n",
    "st.altair_chart(chart1 | chart2)"
   ]
  }
 ],
 "metadata": {
  "kernelspec": {
   "display_name": "Python 3 (ipykernel)",
   "language": "python",
   "name": "python3"
  },
  "language_info": {
   "codemirror_mode": {
    "name": "ipython",
    "version": 3
   },
   "file_extension": ".py",
   "mimetype": "text/x-python",
   "name": "python",
   "nbconvert_exporter": "python",
   "pygments_lexer": "ipython3",
   "version": "3.8.12"
  },
  "toc": {
   "base_numbering": 1,
   "nav_menu": {},
   "number_sections": true,
   "sideBar": true,
   "skip_h1_title": false,
   "title_cell": "Table of Contents",
   "title_sidebar": "Contents",
   "toc_cell": false,
   "toc_position": {},
   "toc_section_display": true,
   "toc_window_display": false
  }
 },
 "nbformat": 4,
 "nbformat_minor": 5
}
