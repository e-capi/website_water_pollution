{
 "cells": [
  {
   "cell_type": "code",
   "execution_count": 2,
   "id": "31bfe048",
   "metadata": {},
   "outputs": [],
   "source": [
    "import requests\n",
    "import pandas as pd"
   ]
  },
  {
   "cell_type": "code",
   "execution_count": 3,
   "id": "25da5301",
   "metadata": {},
   "outputs": [],
   "source": [
    "url2 = 'https://api-te5jtpgwkq-ew.a.run.app/stations' #fichier local\n",
    "response = requests.get(url2)\n",
    "stations_list = response.json()"
   ]
  },
  {
   "cell_type": "code",
   "execution_count": 4,
   "id": "e1ae5511",
   "metadata": {},
   "outputs": [
    {
     "data": {
      "text/plain": [
       "[{'id': 6059500,\n",
       "  'label': 'SAONE A LYON 1',\n",
       "  'coord': [4.831905651439411, 45.79653877103179]},\n",
       " {'id': 6000990,\n",
       "  'label': 'SAONE A BELRUPT',\n",
       "  'coord': [6.101940890815991, 48.090273327987276]},\n",
       " {'id': 6001000,\n",
       "  'label': 'SAONE A CENDRECOURT',\n",
       "  'coord': [5.917378095285407, 47.84026083741255]},\n",
       " {'id': 6002500,\n",
       "  'label': 'SAONE A PORT-SUR-SAONE',\n",
       "  'coord': [6.039291564176292, 47.69107833426886]},\n",
       " {'id': 6003600,\n",
       "  'label': 'SAONE A SCEY-SUR-SAONE',\n",
       "  'coord': [5.972459738821173, 47.661731120409826]},\n",
       " {'id': 6005500,\n",
       "  'label': 'SAONE A APREMONT 1',\n",
       "  'coord': [5.544088676925676, 47.39571566626848]}]"
      ]
     },
     "execution_count": 4,
     "metadata": {},
     "output_type": "execute_result"
    }
   ],
   "source": [
    "stations_list"
   ]
  },
  {
   "cell_type": "code",
   "execution_count": null,
   "id": "7a34d134",
   "metadata": {},
   "outputs": [],
   "source": []
  }
 ],
 "metadata": {
  "kernelspec": {
   "display_name": "Python 3 (ipykernel)",
   "language": "python",
   "name": "python3"
  },
  "language_info": {
   "codemirror_mode": {
    "name": "ipython",
    "version": 3
   },
   "file_extension": ".py",
   "mimetype": "text/x-python",
   "name": "python",
   "nbconvert_exporter": "python",
   "pygments_lexer": "ipython3",
   "version": "3.8.12"
  },
  "toc": {
   "base_numbering": 1,
   "nav_menu": {},
   "number_sections": true,
   "sideBar": true,
   "skip_h1_title": false,
   "title_cell": "Table of Contents",
   "title_sidebar": "Contents",
   "toc_cell": false,
   "toc_position": {},
   "toc_section_display": true,
   "toc_window_display": false
  }
 },
 "nbformat": 4,
 "nbformat_minor": 5
}
