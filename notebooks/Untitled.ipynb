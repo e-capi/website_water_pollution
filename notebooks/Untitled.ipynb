{
 "cells": [
  {
   "cell_type": "code",
   "execution_count": 4,
   "id": "3a2eb643",
   "metadata": {},
   "outputs": [],
   "source": [
    "import pandas as pd\n",
    "import requests"
   ]
  },
  {
   "cell_type": "code",
   "execution_count": 11,
   "id": "279cb300",
   "metadata": {},
   "outputs": [],
   "source": [
    "url = 'https://api-te5jtpgwkq-ew.a.run.app/stations'"
   ]
  },
  {
   "cell_type": "code",
   "execution_count": 19,
   "id": "1d3b3cc6",
   "metadata": {},
   "outputs": [],
   "source": [
    "response = requests.get(url)\n",
    "response_list = response.json()"
   ]
  },
  {
   "cell_type": "code",
   "execution_count": 20,
   "id": "e72036c7",
   "metadata": {},
   "outputs": [
    {
     "data": {
      "text/plain": [
       "[{'id': 6059500,\n",
       "  'label': 'SAONE A LYON 1',\n",
       "  'coord': [4.831905651439411, 45.79653877103179]},\n",
       " {'id': 6000990,\n",
       "  'label': 'SAONE A BELRUPT',\n",
       "  'coord': [6.101940890815991, 48.090273327987276]},\n",
       " {'id': 6001000,\n",
       "  'label': 'SAONE A CENDRECOURT',\n",
       "  'coord': [5.917378095285407, 47.84026083741255]},\n",
       " {'id': 6002500,\n",
       "  'label': 'SAONE A PORT-SUR-SAONE',\n",
       "  'coord': [6.039291564176292, 47.69107833426886]},\n",
       " {'id': 6003600,\n",
       "  'label': 'SAONE A SCEY-SUR-SAONE',\n",
       "  'coord': [5.972459738821173, 47.661731120409826]},\n",
       " {'id': 6005500,\n",
       "  'label': 'SAONE A APREMONT 1',\n",
       "  'coord': [5.544088676925676, 47.39571566626848]}]"
      ]
     },
     "execution_count": 20,
     "metadata": {},
     "output_type": "execute_result"
    }
   ],
   "source": [
    "response_list"
   ]
  },
  {
   "cell_type": "code",
   "execution_count": 53,
   "id": "c84f03d3",
   "metadata": {},
   "outputs": [],
   "source": [
    "def collect_name_id_station(stations_list):\n",
    "    water_stations={}\n",
    "    for station in stations_list:\n",
    "        water_stations[station[\"label\"]] = station[\"id\"]\n",
    "    return water_stations"
   ]
  },
  {
   "cell_type": "code",
   "execution_count": 54,
   "id": "024123cf",
   "metadata": {},
   "outputs": [
    {
     "data": {
      "text/plain": [
       "{'SAONE A LYON 1': 6059500,\n",
       " 'SAONE A BELRUPT': 6000990,\n",
       " 'SAONE A CENDRECOURT': 6001000,\n",
       " 'SAONE A PORT-SUR-SAONE': 6002500,\n",
       " 'SAONE A SCEY-SUR-SAONE': 6003600,\n",
       " 'SAONE A APREMONT 1': 6005500}"
      ]
     },
     "execution_count": 54,
     "metadata": {},
     "output_type": "execute_result"
    }
   ],
   "source": [
    "collect_name_id_station(response_list)"
   ]
  },
  {
   "cell_type": "code",
   "execution_count": 56,
   "id": "cfd122f6",
   "metadata": {},
   "outputs": [],
   "source": [
    "def collect_name_coord_station(stations_list):\n",
    "    water_stations_coord = {}\n",
    "    for station in stations_list:\n",
    "        water_stations_coord[station[\"label\"]] = station[\"coord\"]\n",
    "    return water_stations_coord"
   ]
  },
  {
   "cell_type": "code",
   "execution_count": 60,
   "id": "9485a068",
   "metadata": {},
   "outputs": [
    {
     "data": {
      "text/plain": [
       "4.831905651439411"
      ]
     },
     "execution_count": 60,
     "metadata": {},
     "output_type": "execute_result"
    }
   ],
   "source": [
    "collect_name_coord_station(response_list).get(\"SAONE A LYON 1\")[0]"
   ]
  },
  {
   "cell_type": "code",
   "execution_count": null,
   "id": "2cc2366b",
   "metadata": {},
   "outputs": [],
   "source": []
  }
 ],
 "metadata": {
  "kernelspec": {
   "display_name": "Python 3 (ipykernel)",
   "language": "python",
   "name": "python3"
  },
  "language_info": {
   "codemirror_mode": {
    "name": "ipython",
    "version": 3
   },
   "file_extension": ".py",
   "mimetype": "text/x-python",
   "name": "python",
   "nbconvert_exporter": "python",
   "pygments_lexer": "ipython3",
   "version": "3.8.12"
  },
  "toc": {
   "base_numbering": 1,
   "nav_menu": {},
   "number_sections": true,
   "sideBar": true,
   "skip_h1_title": false,
   "title_cell": "Table of Contents",
   "title_sidebar": "Contents",
   "toc_cell": false,
   "toc_position": {},
   "toc_section_display": true,
   "toc_window_display": false
  }
 },
 "nbformat": 4,
 "nbformat_minor": 5
}
